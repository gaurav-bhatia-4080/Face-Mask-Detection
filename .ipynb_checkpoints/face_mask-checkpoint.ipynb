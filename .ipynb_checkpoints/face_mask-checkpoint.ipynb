{
 "cells": [
  {
   "cell_type": "code",
   "execution_count": 1,
   "metadata": {},
   "outputs": [
    {
     "name": "stderr",
     "output_type": "stream",
     "text": [
      "Using TensorFlow backend.\n"
     ]
    }
   ],
   "source": [
    "import numpy as np\n",
    "import keras\n",
    "import keras.backend as k\n",
    "from keras.layers import Conv2D, MaxPooling2D, SpatialDropout2D, Flatten, Dropout, Dense\n",
    "from keras.models import Sequential, load_model\n",
    "from keras.optimizers import Adam\n",
    "from keras.preprocessing import image\n",
    "import cv2\n",
    "import datetime"
   ]
  },
  {
   "cell_type": "code",
   "execution_count": 2,
   "metadata": {},
   "outputs": [
    {
     "name": "stdout",
     "output_type": "stream",
     "text": [
      "WARNING:tensorflow:From C:\\Users\\Gaurav\\Anaconda3\\lib\\site-packages\\keras\\backend\\tensorflow_backend.py:74: The name tf.get_default_graph is deprecated. Please use tf.compat.v1.get_default_graph instead.\n",
      "\n",
      "WARNING:tensorflow:From C:\\Users\\Gaurav\\Anaconda3\\lib\\site-packages\\keras\\backend\\tensorflow_backend.py:517: The name tf.placeholder is deprecated. Please use tf.compat.v1.placeholder instead.\n",
      "\n",
      "WARNING:tensorflow:From C:\\Users\\Gaurav\\Anaconda3\\lib\\site-packages\\keras\\backend\\tensorflow_backend.py:4138: The name tf.random_uniform is deprecated. Please use tf.random.uniform instead.\n",
      "\n",
      "WARNING:tensorflow:From C:\\Users\\Gaurav\\Anaconda3\\lib\\site-packages\\keras\\backend\\tensorflow_backend.py:3976: The name tf.nn.max_pool is deprecated. Please use tf.nn.max_pool2d instead.\n",
      "\n",
      "WARNING:tensorflow:From C:\\Users\\Gaurav\\Anaconda3\\lib\\site-packages\\keras\\optimizers.py:790: The name tf.train.Optimizer is deprecated. Please use tf.compat.v1.train.Optimizer instead.\n",
      "\n",
      "WARNING:tensorflow:From C:\\Users\\Gaurav\\Anaconda3\\lib\\site-packages\\keras\\backend\\tensorflow_backend.py:3376: The name tf.log is deprecated. Please use tf.math.log instead.\n",
      "\n",
      "WARNING:tensorflow:From C:\\Users\\Gaurav\\Anaconda3\\lib\\site-packages\\tensorflow_core\\python\\ops\\nn_impl.py:183: where (from tensorflow.python.ops.array_ops) is deprecated and will be removed in a future version.\n",
      "Instructions for updating:\n",
      "Use tf.where in 2.0, which has the same broadcast rule as np.where\n"
     ]
    }
   ],
   "source": [
    "model=Sequential()\n",
    "model.add(Conv2D(32, (3, 3), activation='relu', input_shape=(150, 150, 3)))\n",
    "model.add(MaxPooling2D() )\n",
    "model.add(Conv2D(32, (3, 3), activation = 'relu'))\n",
    "model.add(MaxPooling2D() )\n",
    "model.add(Conv2D(32, (3, 3), activation = 'relu'))\n",
    "model.add(MaxPooling2D() )\n",
    "model.add(Flatten())\n",
    "model.add(Dense(100, activation = 'relu'))\n",
    "model.add(Dense(1, activation = 'sigmoid'))\n",
    "\n",
    "model.compile(optimizer = 'adam', loss = 'binary_crossentropy', metrics = ['accuracy'])"
   ]
  },
  {
   "cell_type": "code",
   "execution_count": 6,
   "metadata": {},
   "outputs": [
    {
     "name": "stdout",
     "output_type": "stream",
     "text": [
      "Found 1314 images belonging to 2 classes.\n",
      "Found 194 images belonging to 2 classes.\n",
      "Epoch 1/10\n",
      "10/10 [==============================] - 4s 373ms/step - loss: 0.7714 - acc: 0.5125 - val_loss: 0.6798 - val_acc: 0.5062\n",
      "Epoch 2/10\n",
      "10/10 [==============================] - 3s 257ms/step - loss: 0.6770 - acc: 0.5375 - val_loss: 0.6523 - val_acc: 0.5000\n",
      "Epoch 3/10\n",
      "10/10 [==============================] - 3s 251ms/step - loss: 0.6424 - acc: 0.6188 - val_loss: 0.5150 - val_acc: 0.7945\n",
      "Epoch 4/10\n",
      "10/10 [==============================] - 3s 272ms/step - loss: 0.4720 - acc: 0.7812 - val_loss: 0.3500 - val_acc: 0.8493\n",
      "Epoch 5/10\n",
      "10/10 [==============================] - 2s 234ms/step - loss: 0.3039 - acc: 0.8938 - val_loss: 0.2185 - val_acc: 0.9062\n",
      "Epoch 6/10\n",
      "10/10 [==============================] - 2s 235ms/step - loss: 0.2217 - acc: 0.9250 - val_loss: 0.2765 - val_acc: 0.8836\n",
      "Epoch 7/10\n",
      "10/10 [==============================] - 2s 239ms/step - loss: 0.1952 - acc: 0.9062 - val_loss: 0.2629 - val_acc: 0.9247\n",
      "Epoch 8/10\n",
      "10/10 [==============================] - 3s 284ms/step - loss: 0.1832 - acc: 0.9563 - val_loss: 0.1146 - val_acc: 0.9658\n",
      "Epoch 9/10\n",
      "10/10 [==============================] - 2s 228ms/step - loss: 0.1831 - acc: 0.9180 - val_loss: 0.2594 - val_acc: 0.9125\n",
      "Epoch 10/10\n",
      "10/10 [==============================] - 2s 228ms/step - loss: 0.1532 - acc: 0.9375 - val_loss: 0.2193 - val_acc: 0.9452\n"
     ]
    }
   ],
   "source": [
    "from keras.preprocessing.image import ImageDataGenerator\n",
    "train_datagen = ImageDataGenerator(\n",
    "        rescale=1./255,\n",
    "        shear_range=0.2,\n",
    "        zoom_range=0.2,\n",
    "        horizontal_flip=True)\n",
    "\n",
    "test_datagen = ImageDataGenerator(rescale=1./255)\n",
    "\n",
    "training_set = train_datagen.flow_from_directory(\n",
    "        'train',\n",
    "        target_size=(150,150),\n",
    "        batch_size=16 ,\n",
    "        class_mode='binary')\n",
    "\n",
    "test_set = test_datagen.flow_from_directory(\n",
    "        'test',\n",
    "        target_size=(150,150),\n",
    "        batch_size=16,\n",
    "        class_mode='binary')\n",
    "\n",
    "model_saved=model.fit_generator(\n",
    "        training_set,\n",
    "        epochs=10,\n",
    "        steps_per_epoch=10,\n",
    "        validation_steps = 10,\n",
    "        validation_data=test_set,\n",
    "\n",
    "        )\n",
    "\n",
    "model.save('mymodel.h5', model_saved)\n"
   ]
  },
  {
   "cell_type": "code",
   "execution_count": 13,
   "metadata": {},
   "outputs": [
    {
     "data": {
      "text/plain": [
       "1.0"
      ]
     },
     "execution_count": 13,
     "metadata": {},
     "output_type": "execute_result"
    }
   ],
   "source": [
    "#To test for individual images\n",
    "mymodel = load_model('mymodel.h5')\n",
    "test_image = image.load_img(r'C:/Users/Gaurav/Documents/Machine Learning/FaceMaskDetector/test/without_mask/30.jpg',target_size = (150,150,3))\n",
    "# test_image=image.load_img(r'C:/Users/Gaurav/Documents/Machine Learning/FaceMaskDetector/test/with_mask/1-with-mask.jpg', target_size = (150,150,3))\n",
    "test_image = image.img_to_array(test_image)\n",
    "test_image = np.expand_dims(test_image,axis=0)\n",
    "mymodel.predict(test_image)[0][0]"
   ]
  },
  {
   "cell_type": "code",
   "execution_count": 14,
   "metadata": {},
   "outputs": [],
   "source": [
    "# IMPLEMENTING LIVE DETECTION OF FACE MASK\n",
    "\n",
    "mymodel = load_model('mymodel.h5')\n",
    "\n",
    "cap = cv2.VideoCapture(0)\n",
    "face_cascade = cv2.CascadeClassifier('haarcascade_frontalface_default.xml')\n",
    "\n",
    "while cap.isOpened():\n",
    "    _,img = cap.read()\n",
    "    face = face_cascade.detectMultiScale(img, scaleFactor = 1.1, minNeighbors = 4)\n",
    "    for(x, y, w, h) in face:\n",
    "        face_img = img[y:y+h, x:x+w]\n",
    "        cv2.imwrite('temp.jpg', face_img)\n",
    "        test_image = image.load_img('temp.jpg', target_size=(150,150,3))\n",
    "        test_image = image.img_to_array(test_image)\n",
    "        test_image = np.expand_dims(test_image, axis=0)\n",
    "        pred = mymodel.predict(test_image)[0][0]\n",
    "        if pred == 1:\n",
    "            cv2.rectangle(img, (x, y), (x+w, y+h), (0,0,255), 3)\n",
    "            cv2.putText(img, 'NO MASK', ((x + w)//2, y + h + 20), cv2.FONT_HERSHEY_SIMPLEX, 1, (0, 0, 255), 3)\n",
    "        else:\n",
    "            cv2.rectangle(img, (x, y), (x + w,y + h), (0, 255, 0), 3)\n",
    "            cv2.putText(img,'MASK', ((x + w)//2, y + h + 20), cv2.FONT_HERSHEY_SIMPLEX, 1, (0, 255, 0), 3)\n",
    "        datet =str(datetime.datetime.now())\n",
    "        cv2.putText(img, datet, (400,450), cv2.FONT_HERSHEY_SIMPLEX, 0.5, (255, 255, 255), 1)\n",
    "          \n",
    "    cv2.imshow('img', img)\n",
    "    \n",
    "    if cv2.waitKey(1) == ord('q'):\n",
    "        break\n",
    "    \n",
    "cap.release()\n",
    "cv2.destroyAllWindows()"
   ]
  },
  {
   "cell_type": "code",
   "execution_count": null,
   "metadata": {},
   "outputs": [],
   "source": []
  }
 ],
 "metadata": {
  "kernelspec": {
   "display_name": "Python 3",
   "language": "python",
   "name": "python3"
  },
  "language_info": {
   "codemirror_mode": {
    "name": "ipython",
    "version": 3
   },
   "file_extension": ".py",
   "mimetype": "text/x-python",
   "name": "python",
   "nbconvert_exporter": "python",
   "pygments_lexer": "ipython3",
   "version": "3.7.4"
  }
 },
 "nbformat": 4,
 "nbformat_minor": 2
}
